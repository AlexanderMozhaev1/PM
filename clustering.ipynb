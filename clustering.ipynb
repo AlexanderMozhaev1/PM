{
 "cells": [
  {
   "cell_type": "code",
   "execution_count": 1,
   "metadata": {},
   "outputs": [],
   "source": [
    "import pandas as pd\n",
    "import numpy as np\n",
    "import gensim\n",
    "from tqdm.auto import tqdm\n",
    "from sklearn.feature_extraction.text import CountVectorizer\n",
    "from sklearn.cluster import KMeans\n",
    "from sklearn.metrics import silhouette_score\n",
    "from sklearn.cluster import DBSCAN"
   ]
  },
  {
   "cell_type": "code",
   "execution_count": 2,
   "metadata": {},
   "outputs": [],
   "source": [
    "df = pd.read_csv(\"Team 1.csv\")"
   ]
  },
  {
   "cell_type": "markdown",
   "metadata": {},
   "source": [
    "#### Переименовываем столбцы"
   ]
  },
  {
   "cell_type": "code",
   "execution_count": 3,
   "metadata": {},
   "outputs": [],
   "source": [
    "df = df.rename(columns={\"case concept:name\": \"case:concept:name\",\n",
    "                   \"event concept:name\": \"concept:name\",\n",
    "                   \"event time:timestamp\": \"time:timestamp\"});"
   ]
  },
  {
   "cell_type": "markdown",
   "metadata": {},
   "source": [
    "# Word2Vec"
   ]
  },
  {
   "cell_type": "markdown",
   "metadata": {},
   "source": [
    "#### Группируем по case:concept:name и формаируем столбец событий в процессе(не сортированный)"
   ]
  },
  {
   "cell_type": "code",
   "execution_count": 4,
   "metadata": {},
   "outputs": [],
   "source": [
    "word_two_vec_df = df.groupby(\"case:concept:name\")[\"concept:name\"].apply(' '.join).reset_index()"
   ]
  },
  {
   "cell_type": "markdown",
   "metadata": {},
   "source": [
    "#### Формируем массив"
   ]
  },
  {
   "cell_type": "code",
   "execution_count": null,
   "metadata": {},
   "outputs": [],
   "source": [
    "word_two_vec_df[\"concept:name\"] = word_two_vec_df[\"concept:name\"].str.split(' ')"
   ]
  },
  {
   "cell_type": "code",
   "execution_count": null,
   "metadata": {},
   "outputs": [
    {
     "data": {
      "text/html": [
       "<div>\n",
       "<style scoped>\n",
       "    .dataframe tbody tr th:only-of-type {\n",
       "        vertical-align: middle;\n",
       "    }\n",
       "\n",
       "    .dataframe tbody tr th {\n",
       "        vertical-align: top;\n",
       "    }\n",
       "\n",
       "    .dataframe thead th {\n",
       "        text-align: right;\n",
       "    }\n",
       "</style>\n",
       "<table border=\"1\" class=\"dataframe\">\n",
       "  <thead>\n",
       "    <tr style=\"text-align: right;\">\n",
       "      <th></th>\n",
       "      <th>case:concept:name</th>\n",
       "      <th>concept:name</th>\n",
       "    </tr>\n",
       "  </thead>\n",
       "  <tbody>\n",
       "    <tr>\n",
       "      <th>0</th>\n",
       "      <td>2000000005_00001</td>\n",
       "      <td>[SRM:, Created, SRM:, Document, Completed, SRM...</td>\n",
       "    </tr>\n",
       "    <tr>\n",
       "      <th>1</th>\n",
       "      <td>2000000005_00002</td>\n",
       "      <td>[SRM:, Created, SRM:, Awaiting, Approval, SRM:...</td>\n",
       "    </tr>\n",
       "    <tr>\n",
       "      <th>2</th>\n",
       "      <td>2000000009_00001</td>\n",
       "      <td>[Vendor, creates, invoice, SRM:, Created, SRM:...</td>\n",
       "    </tr>\n",
       "    <tr>\n",
       "      <th>3</th>\n",
       "      <td>2000000011_00001</td>\n",
       "      <td>[SRM:, Created, SRM:, Ordered, SRM:, Awaiting,...</td>\n",
       "    </tr>\n",
       "    <tr>\n",
       "      <th>4</th>\n",
       "      <td>2000000019_00001</td>\n",
       "      <td>[SRM:, Created, SRM:, In, Transfer, to, Execut...</td>\n",
       "    </tr>\n",
       "  </tbody>\n",
       "</table>\n",
       "</div>"
      ],
      "text/plain": [
       "  case:concept:name                                       concept:name\n",
       "0  2000000005_00001  [SRM:, Created, SRM:, Document, Completed, SRM...\n",
       "1  2000000005_00002  [SRM:, Created, SRM:, Awaiting, Approval, SRM:...\n",
       "2  2000000009_00001  [Vendor, creates, invoice, SRM:, Created, SRM:...\n",
       "3  2000000011_00001  [SRM:, Created, SRM:, Ordered, SRM:, Awaiting,...\n",
       "4  2000000019_00001  [SRM:, Created, SRM:, In, Transfer, to, Execut..."
      ]
     },
     "execution_count": 6,
     "metadata": {},
     "output_type": "execute_result"
    }
   ],
   "source": [
    "word_two_vec_df.head()"
   ]
  },
  {
   "cell_type": "markdown",
   "metadata": {},
   "source": [
    "#### Получем эмбединги"
   ]
  },
  {
   "cell_type": "code",
   "execution_count": null,
   "metadata": {},
   "outputs": [],
   "source": [
    "model = gensim.models.Word2Vec(word_two_vec_df[\"concept:name\"], min_count=1, size=100, seed=42)"
   ]
  },
  {
   "cell_type": "code",
   "execution_count": null,
   "metadata": {},
   "outputs": [],
   "source": [
    "features = [np.mean([model.wv[word] for word in sent], axis=0).tolist() for sent in word_two_vec_df[\"concept:name\"]] "
   ]
  },
  {
   "cell_type": "markdown",
   "metadata": {},
   "source": [
    "# KMeans"
   ]
  },
  {
   "cell_type": "markdown",
   "metadata": {},
   "source": [
    "#### В цикле подбираем оптимальное количество класстеров"
   ]
  },
  {
   "cell_type": "code",
   "execution_count": null,
   "metadata": {},
   "outputs": [
    {
     "data": {
      "application/vnd.jupyter.widget-view+json": {
       "model_id": "fcb167aaa8a742599353574e9e00f6c8",
       "version_major": 2,
       "version_minor": 0
      },
      "text/plain": [
       "HBox(children=(IntProgress(value=0, max=348), HTML(value='')))"
      ]
     },
     "metadata": {},
     "output_type": "display_data"
    }
   ],
   "source": [
    "res = pd.DataFrame(columns=['k', 'inertia', 'silhouete'])\n",
    "max_score_word_two_vec = 0.\n",
    "word_two_vec_n_of_clusters = 0\n",
    "for k in tqdm(range(2, 20)):\n",
    "    km = KMeans(n_clusters=k, random_state=42)\n",
    "    pred = km.fit_predict(features)\n",
    "    score = silhouette_score(features, pred, random_state=42)\n",
    "    if score > max_score_word_two_vec:\n",
    "        max_score_word_two_vec = score\n",
    "        word_two_vec_n_of_clusters = k\n",
    "    res.loc[k] = (k, km.inertia_, score)\n",
    "res"
   ]
  },
  {
   "cell_type": "code",
   "execution_count": null,
   "metadata": {},
   "outputs": [],
   "source": [
    "print(f\"max_score: {max_score_word_two_vec} \",  f\"number of clusters with max score: {word_two_vec_n_of_clusters} \")"
   ]
  },
  {
   "cell_type": "code",
   "execution_count": null,
   "metadata": {},
   "outputs": [],
   "source": [
    "res.to_csv(\"KMeans.csv\", sep = \"\\t\")"
   ]
  },
  {
   "cell_type": "markdown",
   "metadata": {},
   "source": [
    "# DBSCAN"
   ]
  },
  {
   "cell_type": "code",
   "execution_count": null,
   "metadata": {},
   "outputs": [],
   "source": [
    "res = pd.DataFrame(columns=['eps', 'min_samples', 'score'])\n",
    "\n",
    "max_score = 0\n",
    "op_eps = 0\n",
    "op_min_samples = 0\n",
    "n = 0\n",
    "for eps in [0.01, 0.05, 0.075, 0.1]:\n",
    "    for min_samples in [2,3,5]:\n",
    "        clustering = DBSCAN(eps = eps, min_samples=min_samples).fit(features)\n",
    "        pred = clustering.labels_\n",
    "        score = silhouette_score(features, pred, random_state=42)\n",
    "        res.loc[n] = (eps, min_samples, score)\n",
    "        n += 1\n",
    "        if(current_score > max_score):\n",
    "            max_score = current_score\n",
    "            op_eps = eps\n",
    "            op_min_samples = min_samples\n",
    "res.head(70)"
   ]
  },
  {
   "cell_type": "code",
   "execution_count": null,
   "metadata": {},
   "outputs": [],
   "source": [
    "print(f\"max_score: {max_score} \",  f\"eps: {op_eps}, min_samples: {op_min_samples}\")"
   ]
  },
  {
   "cell_type": "code",
   "execution_count": null,
   "metadata": {},
   "outputs": [],
   "source": [
    "res.to_csv(\"DBSCAN.csv\", sep = \"\\t\")"
   ]
  },
  {
   "cell_type": "markdown",
   "metadata": {},
   "source": [
    "# Fitness"
   ]
  },
  {
   "cell_type": "code",
   "execution_count": null,
   "metadata": {},
   "outputs": [],
   "source": [
    "import os\n",
    "from pm4py.objects.log.importer.xes import factory as xes_importer\n",
    "from pm4py.algo.discovery.alpha import factory as alpha_miner\n",
    "from pm4py.algo.discovery.inductive import factory as inductive_miner\n",
    "from pm4py.objects.conversion.log import factory as conversion_factory\n",
    "from pm4py.evaluation.replay_fitness import factory as replay_factory"
   ]
  },
  {
   "cell_type": "markdown",
   "metadata": {},
   "source": [
    "#### Получаем нужный формат"
   ]
  },
  {
   "cell_type": "code",
   "execution_count": null,
   "metadata": {},
   "outputs": [],
   "source": [
    "df = pd.read_csv(\"Team 1.csv\")\n",
    "\n",
    "df[\"event time:timestamp\"] = df[\"event time:timestamp\"].apply(lambda x: pd.Timestamp(x))\n",
    "\n",
    "df = df.rename(columns={\"case concept:name\": \"case:concept:name\",\n",
    "                   \"event concept:name\": \"concept:name\",\n",
    "                   \"event time:timestamp\": \"time:timestamp\"});\n",
    "\n",
    "df = df[[\"case:concept:name\",\"concept:name\",\"time:timestamp\"]]\n",
    "\n",
    "df = df.sort_values(by=[\"case:concept:name\", \"time:timestamp\"])"
   ]
  },
  {
   "cell_type": "code",
   "execution_count": null,
   "metadata": {},
   "outputs": [],
   "source": [
    "event_log = conversion_factory.apply(df)"
   ]
  },
  {
   "cell_type": "markdown",
   "metadata": {},
   "source": [
    "#### Альфа Петри"
   ]
  },
  {
   "cell_type": "code",
   "execution_count": null,
   "metadata": {},
   "outputs": [],
   "source": [
    "alpha_petri, alpha_initial_marking, alpha_final_marking = alpha_miner.apply(event_log)"
   ]
  },
  {
   "cell_type": "code",
   "execution_count": null,
   "metadata": {},
   "outputs": [],
   "source": [
    "fitness_alpha = replay_factory.apply(event_log, alpha_petri, alpha_initial_marking, alpha_final_marking)\n",
    "print(\"fitness_alpha=\",fitness_alpha)"
   ]
  }
 ],
 "metadata": {
  "kernelspec": {
   "display_name": "Python 3",
   "language": "python",
   "name": "python3"
  },
  "language_info": {
   "codemirror_mode": {
    "name": "ipython",
    "version": 3
   },
   "file_extension": ".py",
   "mimetype": "text/x-python",
   "name": "python",
   "nbconvert_exporter": "python",
   "pygments_lexer": "ipython3",
   "version": "3.7.1"
  }
 },
 "nbformat": 4,
 "nbformat_minor": 2
}
