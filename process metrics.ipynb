{
 "cells": [
  {
   "cell_type": "code",
   "execution_count": 12,
   "metadata": {},
   "outputs": [],
   "source": [
    "import pandas as pd\n",
    "import numpy as np\n",
    "import collections\n",
    "from datetime import datetime"
   ]
  },
  {
   "cell_type": "markdown",
   "metadata": {},
   "source": [
    "## Среднее время на кластер"
   ]
  },
  {
   "cell_type": "code",
   "execution_count": 13,
   "metadata": {},
   "outputs": [],
   "source": [
    "df = pd.read_csv(\"Team 1.csv\")\n",
    "df = df.rename(columns={\"case concept:name\": \"case:concept:name\",\n",
    "                   \"event concept:name\": \"concept:name\",\n",
    "                   \"event time:timestamp\": \"time:timestamp\"});"
   ]
  },
  {
   "cell_type": "markdown",
   "metadata": {},
   "source": [
    "#### Word2Vec"
   ]
  },
  {
   "cell_type": "code",
   "execution_count": 14,
   "metadata": {},
   "outputs": [],
   "source": [
    "import gensim\n",
    "from tqdm.auto import tqdm"
   ]
  },
  {
   "cell_type": "code",
   "execution_count": 15,
   "metadata": {},
   "outputs": [],
   "source": [
    "word_two_vec_df = df.groupby(\"case:concept:name\")[\"concept:name\"].apply(' '.join).reset_index()\n",
    "word_two_vec_df[\"concept:name\"] = word_two_vec_df[\"concept:name\"].str.split(' ')\n",
    "\n",
    "model = gensim.models.Word2Vec(word_two_vec_df[\"concept:name\"], min_count=1, size=100, seed=42)\n",
    "\n",
    "features = [np.mean([model.wv[word] for word in sent], axis=0).tolist() for sent in word_two_vec_df[\"concept:name\"]] "
   ]
  },
  {
   "cell_type": "markdown",
   "metadata": {},
   "source": [
    "#### DBSCAN"
   ]
  },
  {
   "cell_type": "code",
   "execution_count": 16,
   "metadata": {},
   "outputs": [],
   "source": [
    "from sklearn.cluster import DBSCAN"
   ]
  },
  {
   "cell_type": "code",
   "execution_count": 17,
   "metadata": {},
   "outputs": [],
   "source": [
    "eps = 0.1\n",
    "min_samples = 2\n",
    "\n",
    "\n",
    "clustering = DBSCAN(eps = eps, min_samples=min_samples).fit(features)\n",
    "labels = clustering.labels_"
   ]
  },
  {
   "cell_type": "markdown",
   "metadata": {},
   "source": [
    "#### Подготовка DataFrame"
   ]
  },
  {
   "cell_type": "code",
   "execution_count": 18,
   "metadata": {},
   "outputs": [],
   "source": [
    "df = df[[\"case:concept:name\",\"concept:name\",\"time:timestamp\"]]\n",
    "df[\"newColumn\"] = df[\"concept:name\"] +\"@\"+ df[\"time:timestamp\"].apply(str)"
   ]
  },
  {
   "cell_type": "code",
   "execution_count": 19,
   "metadata": {},
   "outputs": [],
   "source": [
    "proc = df.groupby('case:concept:name')[\"newColumn\"].apply(list)\n",
    "proc = proc.apply(lambda x: sorted([e.split(\"@\") for e in x], key=lambda x: datetime.strptime(x[1], '%d-%m-%Y %H:%M:%S.%f')))"
   ]
  },
  {
   "cell_type": "code",
   "execution_count": 20,
   "metadata": {},
   "outputs": [],
   "source": [
    "rows_list = []\n",
    "for eventId in proc.index:\n",
    "    event = proc[eventId]\n",
    "    rows_list.append([eventId, event[0][1], event[-1][1]])\n",
    "    \n",
    "df_time = pd.DataFrame(rows_list, columns=['id', 'time start', 'time end'])"
   ]
  },
  {
   "cell_type": "code",
   "execution_count": 21,
   "metadata": {},
   "outputs": [],
   "source": [
    "df_time['time start'] = df_time['time start'].apply(lambda x: pd.Timestamp(x))\n",
    "df_time['time end'] = df_time['time end'].apply(lambda x: pd.Timestamp(x))\n",
    "df_time[\"timedelta\"] = pd.to_timedelta((df_time['time end'] - df_time['time start'].min(axis=0))).dt.total_seconds()\n",
    "df_time['labels'] = labels"
   ]
  },
  {
   "cell_type": "code",
   "execution_count": 22,
   "metadata": {},
   "outputs": [
    {
     "data": {
      "text/html": [
       "<div>\n",
       "<style scoped>\n",
       "    .dataframe tbody tr th:only-of-type {\n",
       "        vertical-align: middle;\n",
       "    }\n",
       "\n",
       "    .dataframe tbody tr th {\n",
       "        vertical-align: top;\n",
       "    }\n",
       "\n",
       "    .dataframe thead th {\n",
       "        text-align: right;\n",
       "    }\n",
       "</style>\n",
       "<table border=\"1\" class=\"dataframe\">\n",
       "  <thead>\n",
       "    <tr style=\"text-align: right;\">\n",
       "      <th></th>\n",
       "      <th>id</th>\n",
       "      <th>time start</th>\n",
       "      <th>time end</th>\n",
       "      <th>timedelta</th>\n",
       "      <th>labels</th>\n",
       "    </tr>\n",
       "  </thead>\n",
       "  <tbody>\n",
       "    <tr>\n",
       "      <th>0</th>\n",
       "      <td>2000000005_00001</td>\n",
       "      <td>2018-08-01 10:08:00</td>\n",
       "      <td>2018-02-08 09:19:00</td>\n",
       "      <td>2.210146e+09</td>\n",
       "      <td>0</td>\n",
       "    </tr>\n",
       "    <tr>\n",
       "      <th>1</th>\n",
       "      <td>2000000005_00002</td>\n",
       "      <td>2018-08-01 10:08:00</td>\n",
       "      <td>2018-08-01 11:09:00</td>\n",
       "      <td>2.225186e+09</td>\n",
       "      <td>1</td>\n",
       "    </tr>\n",
       "    <tr>\n",
       "      <th>2</th>\n",
       "      <td>2000000009_00001</td>\n",
       "      <td>2018-02-01 23:59:00</td>\n",
       "      <td>2018-03-15 14:13:00</td>\n",
       "      <td>2.213187e+09</td>\n",
       "      <td>2</td>\n",
       "    </tr>\n",
       "    <tr>\n",
       "      <th>3</th>\n",
       "      <td>2000000011_00001</td>\n",
       "      <td>2018-09-01 16:54:00</td>\n",
       "      <td>2019-01-17 11:59:00</td>\n",
       "      <td>2.239790e+09</td>\n",
       "      <td>3</td>\n",
       "    </tr>\n",
       "    <tr>\n",
       "      <th>4</th>\n",
       "      <td>2000000019_00001</td>\n",
       "      <td>2018-12-01 09:52:00</td>\n",
       "      <td>2019-01-17 11:59:00</td>\n",
       "      <td>2.239790e+09</td>\n",
       "      <td>-1</td>\n",
       "    </tr>\n",
       "  </tbody>\n",
       "</table>\n",
       "</div>"
      ],
      "text/plain": [
       "                 id          time start            time end     timedelta  \\\n",
       "0  2000000005_00001 2018-08-01 10:08:00 2018-02-08 09:19:00  2.210146e+09   \n",
       "1  2000000005_00002 2018-08-01 10:08:00 2018-08-01 11:09:00  2.225186e+09   \n",
       "2  2000000009_00001 2018-02-01 23:59:00 2018-03-15 14:13:00  2.213187e+09   \n",
       "3  2000000011_00001 2018-09-01 16:54:00 2019-01-17 11:59:00  2.239790e+09   \n",
       "4  2000000019_00001 2018-12-01 09:52:00 2019-01-17 11:59:00  2.239790e+09   \n",
       "\n",
       "   labels  \n",
       "0       0  \n",
       "1       1  \n",
       "2       2  \n",
       "3       3  \n",
       "4      -1  "
      ]
     },
     "execution_count": 22,
     "metadata": {},
     "output_type": "execute_result"
    }
   ],
   "source": [
    "df_time.head(5)"
   ]
  },
  {
   "cell_type": "markdown",
   "metadata": {},
   "source": [
    "#### Группируем по класстерам и считаем среднее время"
   ]
  },
  {
   "cell_type": "code",
   "execution_count": 23,
   "metadata": {},
   "outputs": [],
   "source": [
    "df_time_groupby = df_time.groupby(['labels']).mean()[\"timedelta\"]"
   ]
  },
  {
   "cell_type": "code",
   "execution_count": 24,
   "metadata": {},
   "outputs": [
    {
     "data": {
      "text/plain": [
       "labels\n",
       "-1      2.232684e+09\n",
       " 0      2.221292e+09\n",
       " 1      2.229679e+09\n",
       " 2      2.229260e+09\n",
       " 3      2.239790e+09\n",
       "            ...     \n",
       " 677    2.241521e+09\n",
       " 678    2.249553e+09\n",
       " 679    2.237708e+09\n",
       " 680    2.233569e+09\n",
       " 681    2.250823e+09\n",
       "Name: timedelta, Length: 683, dtype: float64"
      ]
     },
     "execution_count": 24,
     "metadata": {},
     "output_type": "execute_result"
    }
   ],
   "source": [
    "df_time_groupby"
   ]
  },
  {
   "cell_type": "code",
   "execution_count": 25,
   "metadata": {},
   "outputs": [
    {
     "data": {
      "text/plain": [
       "count    6.830000e+02\n",
       "mean     2.230739e+09\n",
       "std      8.947753e+06\n",
       "min      2.207234e+09\n",
       "25%      2.224178e+09\n",
       "50%      2.229311e+09\n",
       "75%      2.237013e+09\n",
       "max      2.262009e+09\n",
       "Name: timedelta, dtype: float64"
      ]
     },
     "execution_count": 25,
     "metadata": {},
     "output_type": "execute_result"
    }
   ],
   "source": [
    "df_time_groupby.describe()"
   ]
  },
  {
   "cell_type": "markdown",
   "metadata": {},
   "source": [
    "## Самый частый цикл"
   ]
  },
  {
   "cell_type": "code",
   "execution_count": 26,
   "metadata": {},
   "outputs": [],
   "source": [
    "proc = df.groupby('case:concept:name')[\"concept:name\"].apply(list)"
   ]
  },
  {
   "cell_type": "code",
   "execution_count": 27,
   "metadata": {},
   "outputs": [],
   "source": [
    "c = collections.Counter()\n",
    "\n",
    "for p in proc:\n",
    "    for i in range(len(p)):\n",
    "        for j in range(i + 1, len(p)):\n",
    "            if p[i] == p[j]:\n",
    "                c[tuple(p[i:j])] += 1\n",
    "                break"
   ]
  },
  {
   "cell_type": "code",
   "execution_count": 28,
   "metadata": {},
   "outputs": [
    {
     "data": {
      "text/plain": [
       "[(('Record Service Entry Sheet',), 24116),\n",
       " (('Record Goods Receipt',), 8894),\n",
       " (('Record Service Entry Sheet', 'Record Goods Receipt'), 3364),\n",
       " (('Record Goods Receipt', 'Record Service Entry Sheet'), 1875),\n",
       " (('Record Invoice Receipt',), 1580),\n",
       " (('Record Service Entry Sheet',\n",
       "   'Record Goods Receipt',\n",
       "   'Record Goods Receipt'),\n",
       "  1108),\n",
       " (('Record Goods Receipt',\n",
       "   'Record Service Entry Sheet',\n",
       "   'Record Service Entry Sheet'),\n",
       "  1059),\n",
       " (('Clear Invoice',), 645),\n",
       " (('Record Goods Receipt',\n",
       "   'Record Service Entry Sheet',\n",
       "   'Record Service Entry Sheet',\n",
       "   'Record Service Entry Sheet'),\n",
       "  544),\n",
       " (('Change Quantity',), 488)]"
      ]
     },
     "execution_count": 28,
     "metadata": {},
     "output_type": "execute_result"
    }
   ],
   "source": [
    "c.most_common(10)"
   ]
  },
  {
   "cell_type": "markdown",
   "metadata": {},
   "source": [
    "## Feature Importance"
   ]
  },
  {
   "cell_type": "code",
   "execution_count": 29,
   "metadata": {},
   "outputs": [],
   "source": [
    "from catboost import CatBoostRegressor"
   ]
  },
  {
   "cell_type": "code",
   "execution_count": 30,
   "metadata": {},
   "outputs": [],
   "source": [
    "df = pd.read_csv(\"Team 1.csv\")"
   ]
  },
  {
   "cell_type": "markdown",
   "metadata": {},
   "source": [
    "#### Получем таблицу процессов без различающихся внутри процесса столбцов"
   ]
  },
  {
   "cell_type": "code",
   "execution_count": 31,
   "metadata": {},
   "outputs": [],
   "source": [
    "train_data = df.drop_duplicates('case concept:name').drop(columns = ['event User','event org:resource', 'event concept:name', 'event Cumulative net worth (EUR)', 'event time:timestamp', 'eventID'])"
   ]
  },
  {
   "cell_type": "markdown",
   "metadata": {},
   "source": [
    "#### Подготовка данных"
   ]
  },
  {
   "cell_type": "code",
   "execution_count": 32,
   "metadata": {},
   "outputs": [],
   "source": [
    "cat_features = list(map(lambda x: x[0], list(filter(lambda x: x[1] == True, enumerate((train_data.dtypes == object))))))"
   ]
  },
  {
   "cell_type": "code",
   "execution_count": 33,
   "metadata": {},
   "outputs": [],
   "source": [
    "train_labels = train_data.merge(df_time, left_on='case concept:name', right_on='id')[\"timedelta\"].values"
   ]
  },
  {
   "cell_type": "code",
   "execution_count": 34,
   "metadata": {},
   "outputs": [],
   "source": [
    "%%capture\n",
    "model = CatBoostRegressor(iterations=200, learning_rate=1, depth=5)\n",
    "model.fit(train_data.replace(np.nan, '', regex=True).values, train_labels, cat_features)"
   ]
  },
  {
   "cell_type": "markdown",
   "metadata": {},
   "source": [
    "#### Выводим важность фичей"
   ]
  },
  {
   "cell_type": "code",
   "execution_count": 35,
   "metadata": {},
   "outputs": [
    {
     "data": {
      "text/plain": [
       "[('case Purchasing Document', 61.33385606411267),\n",
       " ('case Vendor', 13.109925306272283),\n",
       " ('case Sub spend area text', 6.072288999314436),\n",
       " ('case Name', 5.940326630072922),\n",
       " ('case Spend classification text', 3.8864969853157354),\n",
       " ('case Spend area text', 2.504314503124203),\n",
       " ('case Item Type', 2.439540597249637),\n",
       " ('case Item', 1.7384141176061412),\n",
       " ('case Item Category', 1.636948926625121),\n",
       " ('case Document Type', 0.884426942469063),\n",
       " ('case Company', 0.3424064237471488),\n",
       " ('case GR-Based Inv. Verif.', 0.10797118229694369),\n",
       " ('case concept:name', 0.0030833217936988232),\n",
       " ('case Purch. Doc. Category name', 0.0),\n",
       " ('case Source', 0.0),\n",
       " ('case Goods Receipt', 0.0)]"
      ]
     },
     "execution_count": 35,
     "metadata": {},
     "output_type": "execute_result"
    }
   ],
   "source": [
    "sorted(list(zip(train_data.columns, model.get_feature_importance())), key = lambda x: -x[1])"
   ]
  },
  {
   "cell_type": "markdown",
   "metadata": {},
   "source": [
    "##### Добавляем фичи"
   ]
  },
  {
   "cell_type": "code",
   "execution_count": 36,
   "metadata": {},
   "outputs": [],
   "source": [
    "for col in ['event User','event org:resource', 'event concept:name', 'event Cumulative net worth (EUR)']:\n",
    "    dict_val = df.groupby('case concept:name')[col].apply(list)\n",
    "    val = []\n",
    "    \n",
    "    for case_concept_name in df['case concept:name']:\n",
    "        val.append(dict_val[case_concept_name])\n",
    "    \n",
    "    train_data[col] = pd.DataFrame({col: val})"
   ]
  },
  {
   "cell_type": "markdown",
   "metadata": {},
   "source": [
    "#### Проверяем стобцы на равенство"
   ]
  },
  {
   "cell_type": "code",
   "execution_count": 38,
   "metadata": {},
   "outputs": [
    {
     "data": {
      "text/plain": [
       "{True}"
      ]
     },
     "execution_count": 38,
     "metadata": {},
     "output_type": "execute_result"
    }
   ],
   "source": [
    "set(train_data[\"event User\"].values == train_data['event org:resource'].values)"
   ]
  },
  {
   "cell_type": "markdown",
   "metadata": {},
   "source": [
    "##### Уникальные сущности по ролям"
   ]
  },
  {
   "cell_type": "code",
   "execution_count": 39,
   "metadata": {},
   "outputs": [],
   "source": [
    "def unic_worker(s):\n",
    "    return s[:s.find(\"_\")]"
   ]
  },
  {
   "cell_type": "code",
   "execution_count": 40,
   "metadata": {},
   "outputs": [],
   "source": [
    "train_data[\"len event User\"] = train_data[\"event User\"].apply(lambda x: len(x))\n",
    "train_data[\"len set event User\"] = train_data[\"event User\"].apply(lambda x: len(set(x)))\n",
    "train_data[\"len set unic_worker event User\"] = train_data[\"event User\"].apply(lambda x: len(set(unic_worker(str(x)))))\n",
    "train_data[\"len set event concept:name\"] = train_data[\"event concept:name\"].apply(lambda x: len(set(x)))\n",
    "train_data[\"len set event Cumulative net worth (EUR)\"] = train_data[\"event Cumulative net worth (EUR)\"].apply(lambda x: len(set(x)))"
   ]
  },
  {
   "cell_type": "code",
   "execution_count": 41,
   "metadata": {},
   "outputs": [],
   "source": [
    "train_data = train_data.drop(columns = ['event User','event org:resource', 'event concept:name', 'event Cumulative net worth (EUR)'])"
   ]
  },
  {
   "cell_type": "code",
   "execution_count": 42,
   "metadata": {},
   "outputs": [],
   "source": [
    "train_labels = train_data.merge(df_time, left_on='case concept:name', right_on='id')[\"timedelta\"].values"
   ]
  },
  {
   "cell_type": "code",
   "execution_count": 43,
   "metadata": {},
   "outputs": [],
   "source": [
    "%%capture\n",
    "model = CatBoostRegressor(iterations=200, learning_rate=1, depth=5)\n",
    "model.fit(train_data.replace(np.nan, '', regex=True).values, train_labels, cat_features)"
   ]
  },
  {
   "cell_type": "markdown",
   "metadata": {},
   "source": [
    "#### Выводим важность фичей"
   ]
  },
  {
   "cell_type": "code",
   "execution_count": 44,
   "metadata": {},
   "outputs": [
    {
     "data": {
      "text/plain": [
       "[('case Purchasing Document', 55.46998774004838),\n",
       " ('case Vendor', 9.733886718315272),\n",
       " ('len set event concept:name', 6.403020734284109),\n",
       " ('case Name', 6.1437787567966256),\n",
       " ('len event User', 5.761434097296831),\n",
       " ('len set event User', 5.560438600844259),\n",
       " ('case Sub spend area text', 2.7323260521932853),\n",
       " ('case Item', 1.4000158156160694),\n",
       " ('case Spend classification text', 1.3788963811505632),\n",
       " ('case Spend area text', 1.1559273018026817),\n",
       " ('case Item Type', 1.132780946026765),\n",
       " ('case Item Category', 1.022657509735084),\n",
       " ('case Document Type', 0.7208759594603795),\n",
       " ('len set unic_worker event User', 0.7182457473404563),\n",
       " ('len set event Cumulative net worth (EUR)', 0.4383656096323184),\n",
       " ('case GR-Based Inv. Verif.', 0.18086572947717272),\n",
       " ('case Company', 0.043889656460851544),\n",
       " ('case concept:name', 0.002606643518898259),\n",
       " ('case Purch. Doc. Category name', 0.0),\n",
       " ('case Source', 0.0),\n",
       " ('case Goods Receipt', 0.0)]"
      ]
     },
     "execution_count": 44,
     "metadata": {},
     "output_type": "execute_result"
    }
   ],
   "source": [
    "sorted(list(zip(train_data.columns, model.get_feature_importance())), key = lambda x: -x[1])"
   ]
  }
 ],
 "metadata": {
  "kernelspec": {
   "display_name": "Python 3",
   "language": "python",
   "name": "python3"
  },
  "language_info": {
   "codemirror_mode": {
    "name": "ipython",
    "version": 3
   },
   "file_extension": ".py",
   "mimetype": "text/x-python",
   "name": "python",
   "nbconvert_exporter": "python",
   "pygments_lexer": "ipython3",
   "version": "3.7.1"
  }
 },
 "nbformat": 4,
 "nbformat_minor": 2
}
